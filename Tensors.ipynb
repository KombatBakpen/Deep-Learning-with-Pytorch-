{
  "nbformat": 4,
  "nbformat_minor": 0,
  "metadata": {
    "colab": {
      "provenance": [],
      "toc_visible": true,
      "authorship_tag": "ABX9TyOr9t6m1jRLhaVvdqElsxbL",
      "include_colab_link": true
    },
    "kernelspec": {
      "name": "python3",
      "display_name": "Python 3"
    },
    "language_info": {
      "name": "python"
    }
  },
  "cells": [
    {
      "cell_type": "markdown",
      "metadata": {
        "id": "view-in-github",
        "colab_type": "text"
      },
      "source": [
        "<a href=\"https://colab.research.google.com/github/KombatBakpen/Deep-Learning-with-Pytorch-/blob/main/Tensors.ipynb\" target=\"_parent\"><img src=\"https://colab.research.google.com/assets/colab-badge.svg\" alt=\"Open In Colab\"/></a>"
      ]
    },
    {
      "cell_type": "markdown",
      "source": [
        "**Tensors are simply like numpy arrays; python list:**\n",
        "\n",
        "**Why tensors over numpy arrays?**\n",
        "*Tensors are used instead of NumPy arrays because tensors provide support for high-dimensional data and operations, making them more suitable for deep learning frameworks like TensorFlow and PyTorch. Additionally, tensors offer GPU acceleration and seamless integration with deep learning libraries, enabling efficient computation and optimization of neural network models.*\n",
        "\n",
        "source: https://python.plainenglish.io/numpy-arrays-vs-tensorflow-tensors-95a9c39e1c17\n"
      ],
      "metadata": {
        "id": "UCPrDpuSpjrW"
      }
    },
    {
      "cell_type": "code",
      "source": [
        "import torch\n",
        "import numpy as np\n"
      ],
      "metadata": {
        "id": "nBTp3kjcprwo"
      },
      "execution_count": 11,
      "outputs": []
    },
    {
      "cell_type": "markdown",
      "source": [
        "**Overview of Python LISTS**"
      ],
      "metadata": {
        "id": "otka0Lc6p1ZC"
      }
    },
    {
      "cell_type": "code",
      "source": [
        "my_list = [1,2,3,4,5,], [6,7,8,9,10]\n",
        "my_list"
      ],
      "metadata": {
        "colab": {
          "base_uri": "https://localhost:8080/"
        },
        "id": "BXxcdDYEp5dC",
        "outputId": "6e3534fa-1dde-4bcc-d407-230c79760825"
      },
      "execution_count": 3,
      "outputs": [
        {
          "output_type": "execute_result",
          "data": {
            "text/plain": [
              "([1, 2, 3, 4, 5], [6, 7, 8, 9, 10])"
            ]
          },
          "metadata": {},
          "execution_count": 3
        }
      ]
    },
    {
      "cell_type": "markdown",
      "source": [
        "**Overview of Numpy ARRAYS**"
      ],
      "metadata": {
        "id": "txstE9rpqkRX"
      }
    },
    {
      "cell_type": "code",
      "source": [
        "np1 = np.random.rand(3,4)\n",
        "np1"
      ],
      "metadata": {
        "colab": {
          "base_uri": "https://localhost:8080/"
        },
        "id": "73Hyv8w8qsv4",
        "outputId": "9d4c5b18-4562-463a-fddf-931daca343ac"
      },
      "execution_count": 4,
      "outputs": [
        {
          "output_type": "execute_result",
          "data": {
            "text/plain": [
              "array([[0.73483128, 0.98367334, 0.57526318, 0.77473989],\n",
              "       [0.95413288, 0.75950488, 0.09911914, 0.05074579],\n",
              "       [0.33763851, 0.50311232, 0.36245873, 0.85521975]])"
            ]
          },
          "metadata": {},
          "execution_count": 4
        }
      ]
    },
    {
      "cell_type": "code",
      "source": [
        "np1.dtype # but note tensor's datatype is flaot32"
      ],
      "metadata": {
        "colab": {
          "base_uri": "https://localhost:8080/"
        },
        "id": "FF5otVB_rAuG",
        "outputId": "484dcfa5-caf1-4bb0-8231-c37ffe1bdca8"
      },
      "execution_count": 6,
      "outputs": [
        {
          "output_type": "execute_result",
          "data": {
            "text/plain": [
              "dtype('float64')"
            ]
          },
          "metadata": {},
          "execution_count": 6
        }
      ]
    },
    {
      "cell_type": "markdown",
      "source": [
        "# ***TENSORS***"
      ],
      "metadata": {
        "id": "56C1boqqrWtU"
      }
    },
    {
      "cell_type": "code",
      "source": [
        "tensor_2d = torch.randn(3,4)\n",
        "tensor_2d"
      ],
      "metadata": {
        "colab": {
          "base_uri": "https://localhost:8080/"
        },
        "id": "X5RQbQHyrexQ",
        "outputId": "174f4759-4abf-48e7-a2d6-07e1768e521c"
      },
      "execution_count": 7,
      "outputs": [
        {
          "output_type": "execute_result",
          "data": {
            "text/plain": [
              "tensor([[ 0.0877, -0.1634,  0.3979,  0.6247],\n",
              "        [-0.3170,  0.6583, -0.3308, -2.1942],\n",
              "        [ 0.4228,  1.3802, -0.5299,  0.6957]])"
            ]
          },
          "metadata": {},
          "execution_count": 7
        }
      ]
    },
    {
      "cell_type": "code",
      "source": [
        "tensor_2d.dtype"
      ],
      "metadata": {
        "colab": {
          "base_uri": "https://localhost:8080/"
        },
        "id": "-eDOYFn-r3k2",
        "outputId": "dfbe119c-7799-43c2-bb76-e5496277f30c"
      },
      "execution_count": 8,
      "outputs": [
        {
          "output_type": "execute_result",
          "data": {
            "text/plain": [
              "torch.float32"
            ]
          },
          "metadata": {},
          "execution_count": 8
        }
      ]
    },
    {
      "cell_type": "code",
      "source": [
        "tensor_3d = torch.randn(2, 3, 4)\n",
        "tensor_3d # 3d tensor; again just similar to a numpy 3d array"
      ],
      "metadata": {
        "colab": {
          "base_uri": "https://localhost:8080/"
        },
        "id": "rTJbF5kLsKmj",
        "outputId": "df4aa190-4225-405f-99f0-1f9ea8784e19"
      },
      "execution_count": 9,
      "outputs": [
        {
          "output_type": "execute_result",
          "data": {
            "text/plain": [
              "tensor([[[-1.1251, -0.9697,  2.0778, -0.4076],\n",
              "         [ 0.8747,  0.9662,  0.7365,  0.1910],\n",
              "         [ 0.2740, -0.8876,  0.0376, -0.2508]],\n",
              "\n",
              "        [[-0.1728, -0.6266,  1.3161,  1.8212],\n",
              "         [-0.8769,  0.3254, -0.1649, -1.4000],\n",
              "         [-0.8701,  0.1959,  0.2320,  0.6125]]])"
            ]
          },
          "metadata": {},
          "execution_count": 9
        }
      ]
    },
    {
      "cell_type": "code",
      "source": [
        "# converting a numpy arrays into tensor\n",
        "# NB = the default datatype is still the numpy array;\n",
        "my_tensor = torch.tensor(np1)\n",
        "my_tensor"
      ],
      "metadata": {
        "colab": {
          "base_uri": "https://localhost:8080/"
        },
        "id": "YB_9dcH0suKY",
        "outputId": "0593c960-4ec5-48a5-f8d9-6baf07c009d1"
      },
      "execution_count": 10,
      "outputs": [
        {
          "output_type": "execute_result",
          "data": {
            "text/plain": [
              "tensor([[0.7348, 0.9837, 0.5753, 0.7747],\n",
              "        [0.9541, 0.7595, 0.0991, 0.0507],\n",
              "        [0.3376, 0.5031, 0.3625, 0.8552]], dtype=torch.float64)"
            ]
          },
          "metadata": {},
          "execution_count": 10
        }
      ]
    },
    {
      "cell_type": "markdown",
      "source": [
        "# **TENSOR OPERATIONS**"
      ],
      "metadata": {
        "id": "qdoUEox2wcwg"
      }
    },
    {
      "cell_type": "markdown",
      "source": [],
      "metadata": {
        "id": "BIYZykbUzhvJ"
      }
    },
    {
      "cell_type": "code",
      "source": [
        "my_torch = torch.arange(10)\n",
        "my_torch"
      ],
      "metadata": {
        "colab": {
          "base_uri": "https://localhost:8080/"
        },
        "id": "TKPvNRqBwmHA",
        "outputId": "66dc6fc8-5c16-41bb-f483-321944e85db8"
      },
      "execution_count": 13,
      "outputs": [
        {
          "output_type": "execute_result",
          "data": {
            "text/plain": [
              "tensor([0, 1, 2, 3, 4, 5, 6, 7, 8, 9])"
            ]
          },
          "metadata": {},
          "execution_count": 13
        }
      ]
    },
    {
      "cell_type": "markdown",
      "source": [
        "**Reshape and View**\n",
        "Reshape takes the tensor and convert to the matrix order in which you specify. You have to make use the order you're entering will fit the size of the tensor. View and reshape perform the same functions\n",
        "\n"
      ],
      "metadata": {
        "id": "dIJjA-BExQE5"
      }
    },
    {
      "cell_type": "code",
      "source": [
        "#reshape\n",
        "my_torch = my_torch.reshape(2, 5)\n",
        "my_torch"
      ],
      "metadata": {
        "colab": {
          "base_uri": "https://localhost:8080/"
        },
        "id": "tZMLCkERxI0z",
        "outputId": "151acd94-6c7b-4ee9-eb27-419d0b1da14a"
      },
      "execution_count": 14,
      "outputs": [
        {
          "output_type": "execute_result",
          "data": {
            "text/plain": [
              "tensor([[0, 1, 2, 3, 4],\n",
              "        [5, 6, 7, 8, 9]])"
            ]
          },
          "metadata": {},
          "execution_count": 14
        }
      ]
    },
    {
      "cell_type": "code",
      "source": [
        "# reshape if we don't know the number of items. this is done using -1\n",
        "my_torch2 = torch.arange(15)\n",
        "my_torch2 = my_torch2.reshape(3,-1)\n",
        "my_torch2"
      ],
      "metadata": {
        "colab": {
          "base_uri": "https://localhost:8080/"
        },
        "id": "6iHm-StWx0oY",
        "outputId": "e8cbf84b-ac34-490e-f407-de2c7e22194d"
      },
      "execution_count": 17,
      "outputs": [
        {
          "output_type": "execute_result",
          "data": {
            "text/plain": [
              "tensor([[ 0,  1,  2,  3,  4],\n",
              "        [ 5,  6,  7,  8,  9],\n",
              "        [10, 11, 12, 13, 14]])"
            ]
          },
          "metadata": {},
          "execution_count": 17
        }
      ]
    },
    {
      "cell_type": "code",
      "source": [
        "# View\n",
        "my_torch3 = torch.arange(10)\n",
        "my_torch4 = my_torch3.view(2,5)\n",
        "my_torch4\n"
      ],
      "metadata": {
        "colab": {
          "base_uri": "https://localhost:8080/"
        },
        "id": "o5uTcFwIzDgr",
        "outputId": "084351a3-f6ae-401c-fa8f-4a33e6664c7f"
      },
      "execution_count": 21,
      "outputs": [
        {
          "output_type": "execute_result",
          "data": {
            "text/plain": [
              "tensor([[0, 1, 2, 3, 4],\n",
              "        [5, 6, 7, 8, 9]])"
            ]
          },
          "metadata": {},
          "execution_count": 21
        }
      ]
    },
    {
      "cell_type": "code",
      "source": [
        "#changing the items in the list\n",
        "my_torch3[1] = 20\n",
        "my_torch3\n"
      ],
      "metadata": {
        "colab": {
          "base_uri": "https://localhost:8080/"
        },
        "id": "zFE9KwAP0MjM",
        "outputId": "fb4595d7-7600-41d9-ced1-f2f7c573a331"
      },
      "execution_count": 22,
      "outputs": [
        {
          "output_type": "execute_result",
          "data": {
            "text/plain": [
              "tensor([ 0, 20,  2,  3,  4,  5,  6,  7,  8,  9])"
            ]
          },
          "metadata": {},
          "execution_count": 22
        }
      ]
    },
    {
      "cell_type": "code",
      "source": [
        "my_torch3"
      ],
      "metadata": {
        "colab": {
          "base_uri": "https://localhost:8080/"
        },
        "id": "Ng2GkANk0sAR",
        "outputId": "3dec86b5-2c2a-4e5e-8e54-a7cf88be251b"
      },
      "execution_count": 23,
      "outputs": [
        {
          "output_type": "execute_result",
          "data": {
            "text/plain": [
              "tensor([ 0, 20,  2,  3,  4,  5,  6,  7,  8,  9])"
            ]
          },
          "metadata": {},
          "execution_count": 23
        }
      ]
    },
    {
      "cell_type": "markdown",
      "source": [
        "**NB**: When you make a change with reshape and view that change will get reflected everywhere."
      ],
      "metadata": {
        "id": "MCcuPEDt0yX4"
      }
    },
    {
      "cell_type": "markdown",
      "source": [
        "**Slices**\n",
        "Allows you to get a section of the data"
      ],
      "metadata": {
        "id": "y9Pkvwwx1EWA"
      }
    },
    {
      "cell_type": "code",
      "source": [
        "my_torch5 = torch.arange(10)\n",
        "# grab an item in a specific location\n",
        "my_torch5[6]"
      ],
      "metadata": {
        "colab": {
          "base_uri": "https://localhost:8080/"
        },
        "id": "83VdSjlk1Ho9",
        "outputId": "a288e0be-081a-4d9f-f7dd-42e72c4d1568"
      },
      "execution_count": 27,
      "outputs": [
        {
          "output_type": "execute_result",
          "data": {
            "text/plain": [
              "tensor(6)"
            ]
          },
          "metadata": {},
          "execution_count": 27
        }
      ]
    },
    {
      "cell_type": "code",
      "source": [
        "# grab a slice: that is range of items in specific locations\n",
        "my_torch5[7]"
      ],
      "metadata": {
        "colab": {
          "base_uri": "https://localhost:8080/"
        },
        "id": "IrSMu5fp3waB",
        "outputId": "ccd558aa-6d20-480c-ed5e-65a77e83ed27"
      },
      "execution_count": 29,
      "outputs": [
        {
          "output_type": "execute_result",
          "data": {
            "text/plain": [
              "tensor(7)"
            ]
          },
          "metadata": {},
          "execution_count": 29
        }
      ]
    },
    {
      "cell_type": "code",
      "source": [
        "# returning columns and rows\n",
        "#row\n",
        "\n",
        "my_torch6 = my_torch5.reshape(5,2)\n",
        "my_torch6[:,1]"
      ],
      "metadata": {
        "colab": {
          "base_uri": "https://localhost:8080/"
        },
        "id": "DTtYLKH44Q4X",
        "outputId": "01bb68a8-26ff-436b-9fe4-2fd7e304ca1b"
      },
      "execution_count": 36,
      "outputs": [
        {
          "output_type": "execute_result",
          "data": {
            "text/plain": [
              "tensor([1, 3, 5, 7, 9])"
            ]
          },
          "metadata": {},
          "execution_count": 36
        }
      ]
    },
    {
      "cell_type": "code",
      "source": [
        "# column\n",
        "my_torch6[:,1:]"
      ],
      "metadata": {
        "colab": {
          "base_uri": "https://localhost:8080/"
        },
        "id": "gYf_-rxf5euz",
        "outputId": "1c86e5eb-5b76-4c41-a930-93b26684ba34"
      },
      "execution_count": 37,
      "outputs": [
        {
          "output_type": "execute_result",
          "data": {
            "text/plain": [
              "tensor([[1],\n",
              "        [3],\n",
              "        [5],\n",
              "        [7],\n",
              "        [9]])"
            ]
          },
          "metadata": {},
          "execution_count": 37
        }
      ]
    },
    {
      "cell_type": "markdown",
      "source": [
        "# **TENSOR ARITHMETIC**\n",
        "1. Add, subtract, mutiply, divide,remainders, exponents\n",
        "2. Shorthand and longhand\n",
        "3. Reassignment\n",
        "\n",
        "\n",
        "\n",
        "\n",
        "\n",
        "\n",
        "\n"
      ],
      "metadata": {
        "id": "0N9V7Fnp6shR"
      }
    },
    {
      "cell_type": "code",
      "source": [
        "tensor_a = torch.tensor([1, 2, 3, 4])\n",
        "tensor_b = torch.tensor([5, 6, 7, 8])\n"
      ],
      "metadata": {
        "id": "OZUjQXnt7BCb"
      },
      "execution_count": 38,
      "outputs": []
    },
    {
      "cell_type": "markdown",
      "source": [
        "**Addition**"
      ],
      "metadata": {
        "id": "r8dqUoN-9LN6"
      }
    },
    {
      "cell_type": "code",
      "source": [
        "tensor_a + tensor_b"
      ],
      "metadata": {
        "colab": {
          "base_uri": "https://localhost:8080/"
        },
        "id": "PR8VBRgI9JMz",
        "outputId": "7cf60a31-9f27-4648-8e44-60dc2050571b"
      },
      "execution_count": 39,
      "outputs": [
        {
          "output_type": "execute_result",
          "data": {
            "text/plain": [
              "tensor([ 6,  8, 10, 12])"
            ]
          },
          "metadata": {},
          "execution_count": 39
        }
      ]
    },
    {
      "cell_type": "code",
      "source": [
        "# the more pytorchic way, ahahahahah; aka, longhand\n",
        "torch.add(tensor_a, tensor_b)"
      ],
      "metadata": {
        "colab": {
          "base_uri": "https://localhost:8080/"
        },
        "id": "6kWImNY6-swG",
        "outputId": "6b1e0b5e-7d54-41d4-8b23-79657ebee8eb"
      },
      "execution_count": 40,
      "outputs": [
        {
          "output_type": "execute_result",
          "data": {
            "text/plain": [
              "tensor([ 6,  8, 10, 12])"
            ]
          },
          "metadata": {},
          "execution_count": 40
        }
      ]
    },
    {
      "cell_type": "code",
      "source": [
        "tensor_a.add(tensor_b)"
      ],
      "metadata": {
        "colab": {
          "base_uri": "https://localhost:8080/"
        },
        "id": "sxO4sp62Ey6T",
        "outputId": "74bebe19-881f-4939-cb50-85851433b94f"
      },
      "execution_count": 59,
      "outputs": [
        {
          "output_type": "execute_result",
          "data": {
            "text/plain": [
              "tensor([ 6,  8, 10, 12])"
            ]
          },
          "metadata": {},
          "execution_count": 59
        }
      ]
    },
    {
      "cell_type": "markdown",
      "source": [
        "**Subtraction**"
      ],
      "metadata": {
        "id": "Yl45Ag0fBZg6"
      }
    },
    {
      "cell_type": "code",
      "source": [
        "tensor_b - tensor_a"
      ],
      "metadata": {
        "colab": {
          "base_uri": "https://localhost:8080/"
        },
        "id": "ZBzxDVa6BhCY",
        "outputId": "7d782dd0-6780-4234-e202-950f0c777f13"
      },
      "execution_count": 42,
      "outputs": [
        {
          "output_type": "execute_result",
          "data": {
            "text/plain": [
              "tensor([4, 4, 4, 4])"
            ]
          },
          "metadata": {},
          "execution_count": 42
        }
      ]
    },
    {
      "cell_type": "markdown",
      "source": [],
      "metadata": {
        "id": "R5zZ4VnvB6Lx"
      }
    },
    {
      "cell_type": "code",
      "source": [
        "torch.subtract(tensor_b, tensor_a)"
      ],
      "metadata": {
        "colab": {
          "base_uri": "https://localhost:8080/"
        },
        "id": "PQCRviqlBoTz",
        "outputId": "bb7a192d-ff2a-4956-a06c-b10d64fd151b"
      },
      "execution_count": 43,
      "outputs": [
        {
          "output_type": "execute_result",
          "data": {
            "text/plain": [
              "tensor([4, 4, 4, 4])"
            ]
          },
          "metadata": {},
          "execution_count": 43
        }
      ]
    },
    {
      "cell_type": "markdown",
      "source": [
        "**Multiplication**\n"
      ],
      "metadata": {
        "id": "QIHeQKqzBzEX"
      }
    },
    {
      "cell_type": "code",
      "source": [
        "tensor_a * tensor_b"
      ],
      "metadata": {
        "colab": {
          "base_uri": "https://localhost:8080/"
        },
        "id": "1HoM-Y9lB6uN",
        "outputId": "e32bd325-2d90-461f-badc-c5505e1b8dcf"
      },
      "execution_count": 44,
      "outputs": [
        {
          "output_type": "execute_result",
          "data": {
            "text/plain": [
              "tensor([ 5, 12, 21, 32])"
            ]
          },
          "metadata": {},
          "execution_count": 44
        }
      ]
    },
    {
      "cell_type": "code",
      "source": [
        "torch.multiply(tensor_a, tensor_b)"
      ],
      "metadata": {
        "colab": {
          "base_uri": "https://localhost:8080/"
        },
        "id": "GmXmnxD1CFJk",
        "outputId": "e6c8b371-c60c-4892-f4fb-119aabba07a3"
      },
      "execution_count": 45,
      "outputs": [
        {
          "output_type": "execute_result",
          "data": {
            "text/plain": [
              "tensor([ 5, 12, 21, 32])"
            ]
          },
          "metadata": {},
          "execution_count": 45
        }
      ]
    },
    {
      "cell_type": "code",
      "source": [
        "tensor_a.multiply(tensor_b)"
      ],
      "metadata": {
        "colab": {
          "base_uri": "https://localhost:8080/"
        },
        "id": "OOyTlq7HE_rn",
        "outputId": "64bffa47-9ee9-47b5-d65b-39d5503d2b27"
      },
      "execution_count": 60,
      "outputs": [
        {
          "output_type": "execute_result",
          "data": {
            "text/plain": [
              "tensor([ 5, 12, 21, 32])"
            ]
          },
          "metadata": {},
          "execution_count": 60
        }
      ]
    },
    {
      "cell_type": "markdown",
      "source": [
        "**Division**"
      ],
      "metadata": {
        "id": "BYYmMrvICQbb"
      }
    },
    {
      "cell_type": "code",
      "source": [
        "tensor_b/tensor_a"
      ],
      "metadata": {
        "colab": {
          "base_uri": "https://localhost:8080/"
        },
        "id": "IxJ-yeUnCT8h",
        "outputId": "a88bb61b-82f6-47db-f7c1-b355e47499a8"
      },
      "execution_count": 46,
      "outputs": [
        {
          "output_type": "execute_result",
          "data": {
            "text/plain": [
              "tensor([5.0000, 3.0000, 2.3333, 2.0000])"
            ]
          },
          "metadata": {},
          "execution_count": 46
        }
      ]
    },
    {
      "cell_type": "code",
      "source": [
        "torch.divide(tensor_b, tensor_a)"
      ],
      "metadata": {
        "colab": {
          "base_uri": "https://localhost:8080/"
        },
        "id": "h_q6_xFnCc6n",
        "outputId": "b6f3c317-4633-46ab-f3fd-70a0c26eee88"
      },
      "execution_count": 47,
      "outputs": [
        {
          "output_type": "execute_result",
          "data": {
            "text/plain": [
              "tensor([5.0000, 3.0000, 2.3333, 2.0000])"
            ]
          },
          "metadata": {},
          "execution_count": 47
        }
      ]
    },
    {
      "cell_type": "code",
      "source": [
        "tensor_b.divide(tensor_a)"
      ],
      "metadata": {
        "colab": {
          "base_uri": "https://localhost:8080/"
        },
        "id": "uX00vwEXFGm5",
        "outputId": "2aa337f8-e74e-496c-91b8-c7459daeb12e"
      },
      "execution_count": 61,
      "outputs": [
        {
          "output_type": "execute_result",
          "data": {
            "text/plain": [
              "tensor([5.0000, 3.0000, 2.3333, 2.0000])"
            ]
          },
          "metadata": {},
          "execution_count": 61
        }
      ]
    },
    {
      "cell_type": "markdown",
      "source": [
        "**Remainders**"
      ],
      "metadata": {
        "id": "Qt61kys_CnEY"
      }
    },
    {
      "cell_type": "code",
      "source": [
        "tensor_b % tensor_a"
      ],
      "metadata": {
        "colab": {
          "base_uri": "https://localhost:8080/"
        },
        "id": "hKIIyeQGCsbB",
        "outputId": "ef73a9ac-9ca0-440a-cfe1-085de552e93a"
      },
      "execution_count": 49,
      "outputs": [
        {
          "output_type": "execute_result",
          "data": {
            "text/plain": [
              "tensor([0, 0, 1, 0])"
            ]
          },
          "metadata": {},
          "execution_count": 49
        }
      ]
    },
    {
      "cell_type": "code",
      "source": [
        "torch.remainder(tensor_b, tensor_a)"
      ],
      "metadata": {
        "colab": {
          "base_uri": "https://localhost:8080/"
        },
        "id": "w127RlOaC7MC",
        "outputId": "50017cb3-d337-443f-b441-338d30eaed89"
      },
      "execution_count": 50,
      "outputs": [
        {
          "output_type": "execute_result",
          "data": {
            "text/plain": [
              "tensor([0, 0, 1, 0])"
            ]
          },
          "metadata": {},
          "execution_count": 50
        }
      ]
    },
    {
      "cell_type": "code",
      "source": [
        "tensor_b.remainder(tensor_a)"
      ],
      "metadata": {
        "colab": {
          "base_uri": "https://localhost:8080/"
        },
        "id": "toV6WliOFSo1",
        "outputId": "12736d30-1951-41e9-e206-91cb32486984"
      },
      "execution_count": 62,
      "outputs": [
        {
          "output_type": "execute_result",
          "data": {
            "text/plain": [
              "tensor([0, 0, 1, 0])"
            ]
          },
          "metadata": {},
          "execution_count": 62
        }
      ]
    },
    {
      "cell_type": "markdown",
      "source": [
        "**Exponents**"
      ],
      "metadata": {
        "id": "-0P2UHtjDP3l"
      }
    },
    {
      "cell_type": "code",
      "source": [
        "tensor_a**2"
      ],
      "metadata": {
        "colab": {
          "base_uri": "https://localhost:8080/"
        },
        "id": "xsauP1LnDSpj",
        "outputId": "f5e1273c-6efc-4783-92ab-9c85e4c17b47"
      },
      "execution_count": 55,
      "outputs": [
        {
          "output_type": "execute_result",
          "data": {
            "text/plain": [
              "tensor([ 1,  4,  9, 16])"
            ]
          },
          "metadata": {},
          "execution_count": 55
        }
      ]
    },
    {
      "cell_type": "code",
      "source": [
        "tensor_b**tensor_a"
      ],
      "metadata": {
        "colab": {
          "base_uri": "https://localhost:8080/"
        },
        "id": "TcFDmnXvD1sd",
        "outputId": "50731cba-428c-4c33-e284-21134354cbce"
      },
      "execution_count": 56,
      "outputs": [
        {
          "output_type": "execute_result",
          "data": {
            "text/plain": [
              "tensor([   5,   36,  343, 4096])"
            ]
          },
          "metadata": {},
          "execution_count": 56
        }
      ]
    },
    {
      "cell_type": "code",
      "source": [
        "torch.pow(tensor_b, tensor_a)"
      ],
      "metadata": {
        "colab": {
          "base_uri": "https://localhost:8080/"
        },
        "id": "SLVSCbUwDdoT",
        "outputId": "8a46d3cb-5337-4b3f-f045-a82188527ceb"
      },
      "execution_count": 57,
      "outputs": [
        {
          "output_type": "execute_result",
          "data": {
            "text/plain": [
              "tensor([   5,   36,  343, 4096])"
            ]
          },
          "metadata": {},
          "execution_count": 57
        }
      ]
    },
    {
      "cell_type": "code",
      "source": [
        "torch.pow(tensor_a, 2)"
      ],
      "metadata": {
        "colab": {
          "base_uri": "https://localhost:8080/"
        },
        "id": "XOiAE2C0EAX-",
        "outputId": "26d592e6-05c4-49ee-c5ed-687592f06a10"
      },
      "execution_count": 58,
      "outputs": [
        {
          "output_type": "execute_result",
          "data": {
            "text/plain": [
              "tensor([ 1,  4,  9, 16])"
            ]
          },
          "metadata": {},
          "execution_count": 58
        }
      ]
    },
    {
      "cell_type": "code",
      "source": [
        "tensor_a.pow(3)"
      ],
      "metadata": {
        "colab": {
          "base_uri": "https://localhost:8080/"
        },
        "id": "P-xwxFzdFblf",
        "outputId": "279f6063-65b6-4efd-898b-e87f1feee1d4"
      },
      "execution_count": 69,
      "outputs": [
        {
          "output_type": "execute_result",
          "data": {
            "text/plain": [
              "tensor([ 4096,  8000, 13824, 21952])"
            ]
          },
          "metadata": {},
          "execution_count": 69
        }
      ]
    },
    {
      "cell_type": "markdown",
      "source": [
        "**Reassignment**"
      ],
      "metadata": {
        "id": "CYWiqLfXFr35"
      }
    },
    {
      "cell_type": "code",
      "source": [
        "tensor_a = tensor_a + tensor_b\n",
        "tensor_a"
      ],
      "metadata": {
        "colab": {
          "base_uri": "https://localhost:8080/"
        },
        "id": "0MrJ9rMrFwD-",
        "outputId": "5713bcdc-f842-406a-bc07-b659b3d7938a"
      },
      "execution_count": 72,
      "outputs": [
        {
          "output_type": "execute_result",
          "data": {
            "text/plain": [
              "tensor([26, 32, 38, 44])"
            ]
          },
          "metadata": {},
          "execution_count": 72
        }
      ]
    },
    {
      "cell_type": "code",
      "source": [
        "# we can do this reassignment in a special way\n",
        "tensor_a.add_(tensor_b)"
      ],
      "metadata": {
        "colab": {
          "base_uri": "https://localhost:8080/"
        },
        "id": "aj7Sq_hjGE3B",
        "outputId": "0dcf364f-eec7-400d-e98e-caa117518cd9"
      },
      "execution_count": 73,
      "outputs": [
        {
          "output_type": "execute_result",
          "data": {
            "text/plain": [
              "tensor([31, 38, 45, 52])"
            ]
          },
          "metadata": {},
          "execution_count": 73
        }
      ]
    }
  ]
}